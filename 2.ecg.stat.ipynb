{
 "cells": [
  {
   "attachments": {},
   "cell_type": "markdown",
   "metadata": {},
   "source": [
    "```\n",
    "# Copyright 2023 by the author(s) of CHI2023 Late Breaking Work\n",
    "# \"Exploring Physiological Correlates of Visual Complexity Adaptation:\n",
    "# Insights from EDA, ECG, and EEG Data for Adaptation Evaluation in VR\n",
    "# Adaptive Systems\". All rights reserved.\n",
    "#\n",
    "# Use of this source code is governed by a GPLv3 license that\n",
    "# can be found in the LICENSE file.\n",
    "```"
   ]
  },
  {
   "cell_type": "code",
   "execution_count": 1,
   "metadata": {
    "vscode": {
     "languageId": "r"
    }
   },
   "outputs": [],
   "source": [
    "library(apa)\n",
    "library(ez)\n",
    "library(stats)\n",
    "library(tidyr)"
   ]
  },
  {
   "cell_type": "code",
   "execution_count": 2,
   "metadata": {
    "vscode": {
     "languageId": "r"
    }
   },
   "outputs": [
    {
     "data": {
      "text/html": [
       "<table class=\"dataframe\">\n",
       "<caption>A data.frame: 6 × 6</caption>\n",
       "<thead>\n",
       "\t<tr><th></th><th scope=col>pid</th><th scope=col>workload</th><th scope=col>interval</th><th scope=col>ecg_rate_mean</th><th scope=col>ecg_rate_var</th><th scope=col>hrv_rmssd</th></tr>\n",
       "\t<tr><th></th><th scope=col>&lt;int&gt;</th><th scope=col>&lt;chr&gt;</th><th scope=col>&lt;dbl&gt;</th><th scope=col>&lt;dbl&gt;</th><th scope=col>&lt;dbl&gt;</th><th scope=col>&lt;dbl&gt;</th></tr>\n",
       "</thead>\n",
       "<tbody>\n",
       "\t<tr><th scope=row>1</th><td>4</td><td>low </td><td>0</td><td>101.69174</td><td> 768.8899</td><td>305.3853</td></tr>\n",
       "\t<tr><th scope=row>2</th><td>4</td><td>high</td><td>1</td><td> 82.26887</td><td> 561.0244</td><td>378.2585</td></tr>\n",
       "\t<tr><th scope=row>3</th><td>5</td><td>low </td><td>0</td><td> 81.40511</td><td> 666.7635</td><td>363.0356</td></tr>\n",
       "\t<tr><th scope=row>4</th><td>5</td><td>high</td><td>1</td><td> 84.83023</td><td> 720.2613</td><td>387.4002</td></tr>\n",
       "\t<tr><th scope=row>5</th><td>5</td><td>low </td><td>2</td><td>101.94272</td><td>1248.5139</td><td>317.4916</td></tr>\n",
       "\t<tr><th scope=row>6</th><td>5</td><td>high</td><td>3</td><td> 85.95576</td><td> 789.3459</td><td>415.9458</td></tr>\n",
       "</tbody>\n",
       "</table>\n"
      ],
      "text/latex": [
       "A data.frame: 6 × 6\n",
       "\\begin{tabular}{r|llllll}\n",
       "  & pid & workload & interval & ecg\\_rate\\_mean & ecg\\_rate\\_var & hrv\\_rmssd\\\\\n",
       "  & <int> & <chr> & <dbl> & <dbl> & <dbl> & <dbl>\\\\\n",
       "\\hline\n",
       "\t1 & 4 & low  & 0 & 101.69174 &  768.8899 & 305.3853\\\\\n",
       "\t2 & 4 & high & 1 &  82.26887 &  561.0244 & 378.2585\\\\\n",
       "\t3 & 5 & low  & 0 &  81.40511 &  666.7635 & 363.0356\\\\\n",
       "\t4 & 5 & high & 1 &  84.83023 &  720.2613 & 387.4002\\\\\n",
       "\t5 & 5 & low  & 2 & 101.94272 & 1248.5139 & 317.4916\\\\\n",
       "\t6 & 5 & high & 3 &  85.95576 &  789.3459 & 415.9458\\\\\n",
       "\\end{tabular}\n"
      ],
      "text/markdown": [
       "\n",
       "A data.frame: 6 × 6\n",
       "\n",
       "| <!--/--> | pid &lt;int&gt; | workload &lt;chr&gt; | interval &lt;dbl&gt; | ecg_rate_mean &lt;dbl&gt; | ecg_rate_var &lt;dbl&gt; | hrv_rmssd &lt;dbl&gt; |\n",
       "|---|---|---|---|---|---|---|\n",
       "| 1 | 4 | low  | 0 | 101.69174 |  768.8899 | 305.3853 |\n",
       "| 2 | 4 | high | 1 |  82.26887 |  561.0244 | 378.2585 |\n",
       "| 3 | 5 | low  | 0 |  81.40511 |  666.7635 | 363.0356 |\n",
       "| 4 | 5 | high | 1 |  84.83023 |  720.2613 | 387.4002 |\n",
       "| 5 | 5 | low  | 2 | 101.94272 | 1248.5139 | 317.4916 |\n",
       "| 6 | 5 | high | 3 |  85.95576 |  789.3459 | 415.9458 |\n",
       "\n"
      ],
      "text/plain": [
       "  pid workload interval ecg_rate_mean ecg_rate_var hrv_rmssd\n",
       "1 4   low      0        101.69174      768.8899    305.3853 \n",
       "2 4   high     1         82.26887      561.0244    378.2585 \n",
       "3 5   low      0         81.40511      666.7635    363.0356 \n",
       "4 5   high     1         84.83023      720.2613    387.4002 \n",
       "5 5   low      2        101.94272     1248.5139    317.4916 \n",
       "6 5   high     3         85.95576      789.3459    415.9458 "
      ]
     },
     "metadata": {},
     "output_type": "display_data"
    }
   ],
   "source": [
    "df <- read.csv(\"processed/ecg.csv\")\n",
    "df <- drop_na(df)\n",
    "head(df)"
   ]
  },
  {
   "cell_type": "code",
   "execution_count": 3,
   "metadata": {
    "vscode": {
     "languageId": "r"
    }
   },
   "outputs": [
    {
     "name": "stdout",
     "output_type": "stream",
     "text": [
      "[1] \"ecg_rate_mean: normally distributed\"\n",
      "[1] \"hrv_rmssd: not normally distributed\"\n"
     ]
    }
   ],
   "source": [
    "sig <- shapiro.test(df$ecg_rate_mean)\n",
    "if (sig$p < 0.05) {\n",
    "    print(\"ecg_rate_mean: not normally distributed\")\n",
    "} else {\n",
    "    print(\"ecg_rate_mean: normally distributed\")\n",
    "}\n",
    "sig <- shapiro.test(df$hrv_rmssd)\n",
    "if (sig$p < 0.05) {\n",
    "    print(\"hrv_rmssd: not normally distributed\")\n",
    "} else {\n",
    "    print(\"hrv_rmssd: normally distributed\")\n",
    "}"
   ]
  },
  {
   "cell_type": "code",
   "execution_count": 4,
   "metadata": {
    "vscode": {
     "languageId": "r"
    }
   },
   "outputs": [
    {
     "data": {
      "text/plain": [
       "\n",
       "\tWelch Two Sample t-test\n",
       "\n",
       "data:  df$ecg_rate_mean by df$workload\n",
       "t = -0.33182, df = 77.497, p-value = 0.7409\n",
       "alternative hypothesis: true difference in means between group high and group low is not equal to 0\n",
       "95 percent confidence interval:\n",
       " -4.166077  2.975847\n",
       "sample estimates:\n",
       "mean in group high  mean in group low \n",
       "          95.86028           96.45539 \n"
      ]
     },
     "metadata": {},
     "output_type": "display_data"
    }
   ],
   "source": [
    "t.test(df$ecg_rate_mean ~ df$workload)"
   ]
  },
  {
   "cell_type": "code",
   "execution_count": 5,
   "metadata": {
    "vscode": {
     "languageId": "r"
    }
   },
   "outputs": [
    {
     "data": {
      "text/plain": [
       "\n",
       "\tWelch Two Sample t-test\n",
       "\n",
       "data:  df$ecg_rate_var by df$workload\n",
       "t = -0.21256, df = 77.64, p-value = 0.8322\n",
       "alternative hypothesis: true difference in means between group high and group low is not equal to 0\n",
       "95 percent confidence interval:\n",
       " -149.8571  120.9460\n",
       "sample estimates:\n",
       "mean in group high  mean in group low \n",
       "          772.4754           786.9310 \n"
      ]
     },
     "metadata": {},
     "output_type": "display_data"
    }
   ],
   "source": [
    "t.test(df$ecg_rate_var ~ df$workload)"
   ]
  },
  {
   "cell_type": "code",
   "execution_count": 6,
   "metadata": {
    "vscode": {
     "languageId": "r"
    }
   },
   "outputs": [
    {
     "data": {
      "text/plain": [
       "\n",
       "\tWilcoxon rank sum exact test\n",
       "\n",
       "data:  df$hrv_rmssd by df$workload\n",
       "W = 889, p-value = 0.3937\n",
       "alternative hypothesis: true location shift is not equal to 0\n"
      ]
     },
     "metadata": {},
     "output_type": "display_data"
    }
   ],
   "source": [
    "wilcox.test(df$hrv_rmssd ~ df$workload)"
   ]
  }
 ],
 "metadata": {
  "kernelspec": {
   "display_name": "R",
   "language": "R",
   "name": "ir"
  },
  "language_info": {
   "codemirror_mode": "r",
   "file_extension": ".r",
   "mimetype": "text/x-r-source",
   "name": "R",
   "pygments_lexer": "r",
   "version": "4.2.2"
  },
  "orig_nbformat": 4,
  "vscode": {
   "interpreter": {
    "hash": "916dbcbb3f70747c44a77c7bcd40155683ae19c65e1c03b4aa3499c5328201f1"
   }
  }
 },
 "nbformat": 4,
 "nbformat_minor": 2
}
