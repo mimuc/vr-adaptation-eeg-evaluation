{
 "cells": [
  {
   "attachments": {},
   "cell_type": "markdown",
   "metadata": {},
   "source": [
    "```\n",
    "# Copyright 2023 by the author(s) of CHI2023 Late Breaking Work\n",
    "# \"Exploring Physiological Correlates of Visual Complexity Adaptation:\n",
    "# Insights from EDA, ECG, and EEG Data for Adaptation Evaluation in VR\n",
    "# Adaptive Systems\". All rights reserved.\n",
    "#\n",
    "# Use of this source code is governed by a GPLv3 license that\n",
    "# can be found in the LICENSE file.\n",
    "```"
   ]
  },
  {
   "cell_type": "code",
   "execution_count": 7,
   "metadata": {
    "vscode": {
     "languageId": "r"
    }
   },
   "outputs": [],
   "source": [
    "library(apa)\n",
    "library(ez)\n",
    "library(stats)\n",
    "library(tidyr)"
   ]
  },
  {
   "cell_type": "code",
   "execution_count": 8,
   "metadata": {
    "vscode": {
     "languageId": "r"
    }
   },
   "outputs": [
    {
     "data": {
      "text/html": [
       "<table class=\"dataframe\">\n",
       "<caption>A data.frame: 6 × 5</caption>\n",
       "<thead>\n",
       "\t<tr><th></th><th scope=col>pid</th><th scope=col>workload</th><th scope=col>interval</th><th scope=col>nbackAccuracy</th><th scope=col>adAccuracy</th></tr>\n",
       "\t<tr><th></th><th scope=col>&lt;int&gt;</th><th scope=col>&lt;chr&gt;</th><th scope=col>&lt;dbl&gt;</th><th scope=col>&lt;dbl&gt;</th><th scope=col>&lt;dbl&gt;</th></tr>\n",
       "</thead>\n",
       "<tbody>\n",
       "\t<tr><th scope=row>1</th><td>4</td><td>low </td><td>0</td><td> 93.33333</td><td>100.00000</td></tr>\n",
       "\t<tr><th scope=row>2</th><td>4</td><td>high</td><td>1</td><td> 83.33333</td><td> 72.72727</td></tr>\n",
       "\t<tr><th scope=row>3</th><td>5</td><td>low </td><td>0</td><td> 90.00000</td><td> 57.14286</td></tr>\n",
       "\t<tr><th scope=row>4</th><td>5</td><td>high</td><td>1</td><td> 85.71429</td><td> 83.33333</td></tr>\n",
       "\t<tr><th scope=row>5</th><td>5</td><td>low </td><td>2</td><td> 80.00000</td><td>100.00000</td></tr>\n",
       "\t<tr><th scope=row>6</th><td>5</td><td>high</td><td>3</td><td>100.00000</td><td> 77.77778</td></tr>\n",
       "</tbody>\n",
       "</table>\n"
      ],
      "text/latex": [
       "A data.frame: 6 × 5\n",
       "\\begin{tabular}{r|lllll}\n",
       "  & pid & workload & interval & nbackAccuracy & adAccuracy\\\\\n",
       "  & <int> & <chr> & <dbl> & <dbl> & <dbl>\\\\\n",
       "\\hline\n",
       "\t1 & 4 & low  & 0 &  93.33333 & 100.00000\\\\\n",
       "\t2 & 4 & high & 1 &  83.33333 &  72.72727\\\\\n",
       "\t3 & 5 & low  & 0 &  90.00000 &  57.14286\\\\\n",
       "\t4 & 5 & high & 1 &  85.71429 &  83.33333\\\\\n",
       "\t5 & 5 & low  & 2 &  80.00000 & 100.00000\\\\\n",
       "\t6 & 5 & high & 3 & 100.00000 &  77.77778\\\\\n",
       "\\end{tabular}\n"
      ],
      "text/markdown": [
       "\n",
       "A data.frame: 6 × 5\n",
       "\n",
       "| <!--/--> | pid &lt;int&gt; | workload &lt;chr&gt; | interval &lt;dbl&gt; | nbackAccuracy &lt;dbl&gt; | adAccuracy &lt;dbl&gt; |\n",
       "|---|---|---|---|---|---|\n",
       "| 1 | 4 | low  | 0 |  93.33333 | 100.00000 |\n",
       "| 2 | 4 | high | 1 |  83.33333 |  72.72727 |\n",
       "| 3 | 5 | low  | 0 |  90.00000 |  57.14286 |\n",
       "| 4 | 5 | high | 1 |  85.71429 |  83.33333 |\n",
       "| 5 | 5 | low  | 2 |  80.00000 | 100.00000 |\n",
       "| 6 | 5 | high | 3 | 100.00000 |  77.77778 |\n",
       "\n"
      ],
      "text/plain": [
       "  pid workload interval nbackAccuracy adAccuracy\n",
       "1 4   low      0         93.33333     100.00000 \n",
       "2 4   high     1         83.33333      72.72727 \n",
       "3 5   low      0         90.00000      57.14286 \n",
       "4 5   high     1         85.71429      83.33333 \n",
       "5 5   low      2         80.00000     100.00000 \n",
       "6 5   high     3        100.00000      77.77778 "
      ]
     },
     "metadata": {},
     "output_type": "display_data"
    }
   ],
   "source": [
    "df <- read.csv(\"processed/accuracy.csv\")\n",
    "df <- drop_na(df)\n",
    "head(df)"
   ]
  },
  {
   "cell_type": "code",
   "execution_count": 9,
   "metadata": {
    "vscode": {
     "languageId": "r"
    }
   },
   "outputs": [
    {
     "name": "stdout",
     "output_type": "stream",
     "text": [
      "[1] \"nbackAccuracy: not normally distributed\"\n",
      "[1] \"adAccuracy: not normally distributed\"\n"
     ]
    }
   ],
   "source": [
    "sig <- shapiro.test(df$nbackAccuracy)\n",
    "if (sig$p < 0.05) {\n",
    "    print(\"nbackAccuracy: not normally distributed\")\n",
    "} else {\n",
    "    print(\"nbackAccuracy: normally distributed\")\n",
    "}\n",
    "sig <- shapiro.test(df$adAccuracy)\n",
    "if (sig$p < 0.05) {\n",
    "    print(\"adAccuracy: not normally distributed\")\n",
    "} else {\n",
    "    print(\"adAccuracy: normally distributed\")\n",
    "}"
   ]
  },
  {
   "cell_type": "code",
   "execution_count": 10,
   "metadata": {
    "vscode": {
     "languageId": "r"
    }
   },
   "outputs": [
    {
     "name": "stderr",
     "output_type": "stream",
     "text": [
      "Warning message in wilcox.test.default(x = DATA[[1L]], y = DATA[[2L]], ...):\n",
      "“cannot compute exact p-value with ties”\n"
     ]
    },
    {
     "data": {
      "text/plain": [
       "\n",
       "\tWilcoxon rank sum test with continuity correction\n",
       "\n",
       "data:  df$nbackAccuracy by df$workload\n",
       "W = 769, p-value = 0.7372\n",
       "alternative hypothesis: true location shift is not equal to 0\n"
      ]
     },
     "metadata": {},
     "output_type": "display_data"
    }
   ],
   "source": [
    "wilcox.test(df$nbackAccuracy ~ df$workload)"
   ]
  },
  {
   "cell_type": "code",
   "execution_count": 11,
   "metadata": {
    "vscode": {
     "languageId": "r"
    }
   },
   "outputs": [
    {
     "name": "stderr",
     "output_type": "stream",
     "text": [
      "Warning message in wilcox.test.default(x = DATA[[1L]], y = DATA[[2L]], ...):\n",
      "“cannot compute exact p-value with ties”\n"
     ]
    },
    {
     "data": {
      "text/plain": [
       "\n",
       "\tWilcoxon rank sum test with continuity correction\n",
       "\n",
       "data:  df$adAccuracy by df$workload\n",
       "W = 679.5, p-value = 0.2491\n",
       "alternative hypothesis: true location shift is not equal to 0\n"
      ]
     },
     "metadata": {},
     "output_type": "display_data"
    }
   ],
   "source": [
    "wilcox.test(df$adAccuracy ~ df$workload)"
   ]
  }
 ],
 "metadata": {
  "kernelspec": {
   "display_name": "R",
   "language": "R",
   "name": "ir"
  },
  "language_info": {
   "codemirror_mode": "r",
   "file_extension": ".r",
   "mimetype": "text/x-r-source",
   "name": "R",
   "pygments_lexer": "r",
   "version": "4.2.2"
  },
  "orig_nbformat": 4,
  "vscode": {
   "interpreter": {
    "hash": "916dbcbb3f70747c44a77c7bcd40155683ae19c65e1c03b4aa3499c5328201f1"
   }
  }
 },
 "nbformat": 4,
 "nbformat_minor": 2
}
