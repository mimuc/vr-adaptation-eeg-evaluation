{
 "cells": [
  {
   "attachments": {},
   "cell_type": "markdown",
   "metadata": {},
   "source": [
    "```\n",
    "# Copyright 2023 by the author(s) of CHI2023 Late Breaking Work\n",
    "# \"Exploring Physiological Correlates of Visual Complexity Adaptation:\n",
    "# Insights from EDA, ECG, and EEG Data for Adaptation Evaluation in VR\n",
    "# Adaptive Systems\". All rights reserved.\n",
    "#\n",
    "# Use of this source code is governed by a GPLv3 license that\n",
    "# can be found in the LICENSE file.\n",
    "```"
   ]
  },
  {
   "cell_type": "code",
   "execution_count": 1,
   "metadata": {
    "vscode": {
     "languageId": "r"
    }
   },
   "outputs": [],
   "source": [
    "library(apa)\n",
    "library(ez)\n",
    "library(stats)\n",
    "library(tidyr)"
   ]
  },
  {
   "cell_type": "code",
   "execution_count": 2,
   "metadata": {
    "vscode": {
     "languageId": "r"
    }
   },
   "outputs": [
    {
     "data": {
      "text/html": [
       "<table class=\"dataframe\">\n",
       "<caption>A data.frame: 6 × 8</caption>\n",
       "<thead>\n",
       "\t<tr><th></th><th scope=col>pid</th><th scope=col>workload</th><th scope=col>interval</th><th scope=col>tonic_avg</th><th scope=col>amplitude_avg</th><th scope=col>peaks_num</th><th scope=col>tonic_avg_norm</th><th scope=col>amplitude_avg_norm</th></tr>\n",
       "\t<tr><th></th><th scope=col>&lt;int&gt;</th><th scope=col>&lt;chr&gt;</th><th scope=col>&lt;dbl&gt;</th><th scope=col>&lt;dbl&gt;</th><th scope=col>&lt;dbl&gt;</th><th scope=col>&lt;dbl&gt;</th><th scope=col>&lt;dbl&gt;</th><th scope=col>&lt;dbl&gt;</th></tr>\n",
       "</thead>\n",
       "<tbody>\n",
       "\t<tr><th scope=row>1</th><td>4</td><td>low </td><td>0</td><td>174845.2</td><td>1.584421</td><td>4</td><td>0.04336380</td><td>0.08174210</td></tr>\n",
       "\t<tr><th scope=row>2</th><td>4</td><td>high</td><td>1</td><td>171962.9</td><td>2.089351</td><td>3</td><td>0.02461476</td><td>0.10779203</td></tr>\n",
       "\t<tr><th scope=row>3</th><td>5</td><td>low </td><td>0</td><td>204700.5</td><td>5.557244</td><td>4</td><td>0.23756557</td><td>0.28670457</td></tr>\n",
       "\t<tr><th scope=row>4</th><td>5</td><td>high</td><td>1</td><td>189605.6</td><td>5.190685</td><td>4</td><td>0.13937646</td><td>0.26779336</td></tr>\n",
       "\t<tr><th scope=row>5</th><td>5</td><td>low </td><td>2</td><td>185861.4</td><td>1.555890</td><td>4</td><td>0.11502130</td><td>0.08027014</td></tr>\n",
       "\t<tr><th scope=row>6</th><td>5</td><td>high</td><td>3</td><td>184095.4</td><td>1.570706</td><td>3</td><td>0.10353423</td><td>0.08103452</td></tr>\n",
       "</tbody>\n",
       "</table>\n"
      ],
      "text/latex": [
       "A data.frame: 6 × 8\n",
       "\\begin{tabular}{r|llllllll}\n",
       "  & pid & workload & interval & tonic\\_avg & amplitude\\_avg & peaks\\_num & tonic\\_avg\\_norm & amplitude\\_avg\\_norm\\\\\n",
       "  & <int> & <chr> & <dbl> & <dbl> & <dbl> & <dbl> & <dbl> & <dbl>\\\\\n",
       "\\hline\n",
       "\t1 & 4 & low  & 0 & 174845.2 & 1.584421 & 4 & 0.04336380 & 0.08174210\\\\\n",
       "\t2 & 4 & high & 1 & 171962.9 & 2.089351 & 3 & 0.02461476 & 0.10779203\\\\\n",
       "\t3 & 5 & low  & 0 & 204700.5 & 5.557244 & 4 & 0.23756557 & 0.28670457\\\\\n",
       "\t4 & 5 & high & 1 & 189605.6 & 5.190685 & 4 & 0.13937646 & 0.26779336\\\\\n",
       "\t5 & 5 & low  & 2 & 185861.4 & 1.555890 & 4 & 0.11502130 & 0.08027014\\\\\n",
       "\t6 & 5 & high & 3 & 184095.4 & 1.570706 & 3 & 0.10353423 & 0.08103452\\\\\n",
       "\\end{tabular}\n"
      ],
      "text/markdown": [
       "\n",
       "A data.frame: 6 × 8\n",
       "\n",
       "| <!--/--> | pid &lt;int&gt; | workload &lt;chr&gt; | interval &lt;dbl&gt; | tonic_avg &lt;dbl&gt; | amplitude_avg &lt;dbl&gt; | peaks_num &lt;dbl&gt; | tonic_avg_norm &lt;dbl&gt; | amplitude_avg_norm &lt;dbl&gt; |\n",
       "|---|---|---|---|---|---|---|---|---|\n",
       "| 1 | 4 | low  | 0 | 174845.2 | 1.584421 | 4 | 0.04336380 | 0.08174210 |\n",
       "| 2 | 4 | high | 1 | 171962.9 | 2.089351 | 3 | 0.02461476 | 0.10779203 |\n",
       "| 3 | 5 | low  | 0 | 204700.5 | 5.557244 | 4 | 0.23756557 | 0.28670457 |\n",
       "| 4 | 5 | high | 1 | 189605.6 | 5.190685 | 4 | 0.13937646 | 0.26779336 |\n",
       "| 5 | 5 | low  | 2 | 185861.4 | 1.555890 | 4 | 0.11502130 | 0.08027014 |\n",
       "| 6 | 5 | high | 3 | 184095.4 | 1.570706 | 3 | 0.10353423 | 0.08103452 |\n",
       "\n"
      ],
      "text/plain": [
       "  pid workload interval tonic_avg amplitude_avg peaks_num tonic_avg_norm\n",
       "1 4   low      0        174845.2  1.584421      4         0.04336380    \n",
       "2 4   high     1        171962.9  2.089351      3         0.02461476    \n",
       "3 5   low      0        204700.5  5.557244      4         0.23756557    \n",
       "4 5   high     1        189605.6  5.190685      4         0.13937646    \n",
       "5 5   low      2        185861.4  1.555890      4         0.11502130    \n",
       "6 5   high     3        184095.4  1.570706      3         0.10353423    \n",
       "  amplitude_avg_norm\n",
       "1 0.08174210        \n",
       "2 0.10779203        \n",
       "3 0.28670457        \n",
       "4 0.26779336        \n",
       "5 0.08027014        \n",
       "6 0.08103452        "
      ]
     },
     "metadata": {},
     "output_type": "display_data"
    }
   ],
   "source": [
    "df <- read.csv(\"processed/eda.csv\")\n",
    "df <- drop_na(df)\n",
    "head(df)"
   ]
  },
  {
   "cell_type": "code",
   "execution_count": 3,
   "metadata": {
    "vscode": {
     "languageId": "r"
    }
   },
   "outputs": [
    {
     "name": "stdout",
     "output_type": "stream",
     "text": [
      "[1] \"tonic_avg: not normally distributed\"\n",
      "[1] \"amplitude_avg: not normally distributed\"\n"
     ]
    }
   ],
   "source": [
    "sig <- shapiro.test(df$tonic_avg)\n",
    "if (sig$p < 0.05) {\n",
    "    print(\"tonic_avg: not normally distributed\")\n",
    "} else {\n",
    "    print(\"tonic_avg: normally distributed\")\n",
    "}\n",
    "sig <- shapiro.test(df$amplitude_avg)\n",
    "if (sig$p < 0.05) {\n",
    "    print(\"amplitude_avg: not normally distributed\")\n",
    "} else {\n",
    "    print(\"amplitude_avg: normally distributed\")\n",
    "}"
   ]
  },
  {
   "cell_type": "code",
   "execution_count": 4,
   "metadata": {
    "vscode": {
     "languageId": "r"
    }
   },
   "outputs": [
    {
     "data": {
      "text/plain": [
       "\n",
       "\tWilcoxon rank sum exact test\n",
       "\n",
       "data:  df$tonic_avg by df$workload\n",
       "W = 787, p-value = 0.628\n",
       "alternative hypothesis: true location shift is not equal to 0\n"
      ]
     },
     "metadata": {},
     "output_type": "display_data"
    }
   ],
   "source": [
    "wilcox.test(df$tonic_avg ~ df$workload)"
   ]
  },
  {
   "cell_type": "code",
   "execution_count": 5,
   "metadata": {
    "vscode": {
     "languageId": "r"
    }
   },
   "outputs": [
    {
     "name": "stderr",
     "output_type": "stream",
     "text": [
      "Warning message in wilcox.test.default(x = DATA[[1L]], y = DATA[[2L]], ...):\n",
      "“cannot compute exact p-value with ties”\n"
     ]
    },
    {
     "data": {
      "text/plain": [
       "\n",
       "\tWilcoxon rank sum test with continuity correction\n",
       "\n",
       "data:  df$amplitude_avg by df$workload\n",
       "W = 1106.5, p-value = 0.0136\n",
       "alternative hypothesis: true location shift is not equal to 0\n"
      ]
     },
     "metadata": {},
     "output_type": "display_data"
    }
   ],
   "source": [
    "wilcox.test(df$amplitude_avg ~ df$workload)"
   ]
  }
 ],
 "metadata": {
  "kernelspec": {
   "display_name": "R",
   "language": "R",
   "name": "ir"
  },
  "language_info": {
   "codemirror_mode": "r",
   "file_extension": ".r",
   "mimetype": "text/x-r-source",
   "name": "R",
   "pygments_lexer": "r",
   "version": "4.2.2"
  },
  "orig_nbformat": 4
 },
 "nbformat": 4,
 "nbformat_minor": 2
}
