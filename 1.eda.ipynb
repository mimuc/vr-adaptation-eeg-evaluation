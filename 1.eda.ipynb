{
 "cells": [
  {
   "attachments": {},
   "cell_type": "markdown",
   "metadata": {},
   "source": [
    "```\n",
    "# Copyright 2023 by the author(s) of CHI2023 Late Breaking Work\n",
    "# \"Exploring Physiological Correlates of Visual Complexity Adaptation:\n",
    "# Insights from EDA, ECG, and EEG Data for Adaptation Evaluation in VR\n",
    "# Adaptive Systems\". All rights reserved.\n",
    "#\n",
    "# Use of this source code is governed by a GPLv3 license that\n",
    "# can be found in the LICENSE file.\n",
    "```"
   ]
  },
  {
   "cell_type": "code",
   "execution_count": 1,
   "metadata": {},
   "outputs": [],
   "source": [
    "import tqdm\n",
    "import pandas as pd\n",
    "import numpy as np\n",
    "import neurokit2 as nk\n",
    "\n",
    "import pandas as pd\n",
    "import matplotlib.pyplot as plt\n",
    "plt.rcParams['text.usetex'] = True\n",
    "plt.rcParams['text.latex.preamble'] = r'''\\usepackage{libertine}\\usepackage{fontawesome5}\\usepackage[dvipsnames]{xcolor}'''\n",
    "plt.rcParams['ps.usedistiller'] = 'xpdf'\n",
    "import seaborn as sns\n",
    "sns.set_theme(style='ticks')\n",
    "\n",
    "import warnings\n",
    "warnings.filterwarnings('ignore')\n",
    "\n",
    "from lbw import get_event_intervals"
   ]
  },
  {
   "cell_type": "code",
   "execution_count": 2,
   "metadata": {},
   "outputs": [],
   "source": [
    "def load_eda(pid):\n",
    "    dfEDA = pd.read_csv(f\"./data/ID{pid}-EDA.csv\")\n",
    "    dfState = pd.read_csv(f\"./data/ID{pid}-state.csv\")\n",
    "    dfAdaptation = pd.read_csv(f\"./data/ID{pid}-adaptation.csv\")\n",
    "    dfEDA.drop(\"TimeLsl\", axis =1, inplace=True)\n",
    "\n",
    "    intervals, workloads = get_event_intervals(dfAdaptation)\n",
    "    for idx, interval in enumerate(intervals):\n",
    "        dfEDA.loc[(dfEDA['Time'] >= interval[0]) & (dfEDA['Time'] <= interval[1]), 'workload'] = workloads[idx]\n",
    "        dfEDA.loc[(dfEDA['Time'] >= interval[0]) & (dfEDA['Time'] <= interval[1]), 'interval_id'] = idx\n",
    "    dfEDA = dfEDA[dfEDA['workload'].notna()]\n",
    "    dfEDA.loc[dfEDA[(dfEDA.Time > dfState['Time'][2]) & (dfEDA.Time < dfState['Time'][2+1])].index, 'BlockNumber']   = dfState['BlockNumber'][2]\n",
    "    dfEDA.loc[dfEDA[(dfEDA.Time > dfState['Time'][4]) & (dfEDA.Time < dfState['Time'][4+1])].index, 'BlockNumber']   = dfState['BlockNumber'][4]\n",
    "    dfEDA.loc[dfEDA[(dfEDA.Time > dfState['Time'][6]) & (dfEDA.Time < dfState['Time'][6+1])].index, 'BlockNumber']   = dfState['BlockNumber'][6]\n",
    "    dfEDA.loc[dfEDA[(dfEDA.Time > dfState['Time'][8]) & (dfEDA.Time < dfState['Time'][8+1])].index, 'BlockNumber']  = dfState['BlockNumber'][8]\n",
    "    dfEDA.loc[dfEDA[(dfEDA.Time > dfState['Time'][10]) & (dfEDA.Time < dfState['Time'][10+1])].index, 'BlockNumber'] = dfState['BlockNumber'][10]\n",
    "    dfEDA.loc[dfEDA[(dfEDA.Time > dfState['Time'][12]) & (dfEDA.Time < dfState['Time'][12+1])].index, 'BlockNumber'] = dfState['BlockNumber'][12]\n",
    "    dfEDA = dfEDA.dropna()\n",
    "    dfEDA = dfEDA.sort_values(by=\"Time\")\n",
    "    return dfEDA\n",
    "\n",
    "def extract_eda_features(pid, df):\n",
    "    df_features = pd.DataFrame()\n",
    "    intervals = df.interval_id.unique()\n",
    "    for interval_id in intervals:\n",
    "        df_current = df[df.interval_id == interval_id]\n",
    "        if len(df_current['Value']) < 50:\n",
    "            df_features = df_features.append(pd.DataFrame.from_dict([{\n",
    "                'pid': pid,\n",
    "                'workload': df_current['workload'].iloc[0],\n",
    "                'interval': interval_id,\n",
    "            }]))\n",
    "            continue\n",
    "        eda_clean, _ = nk.eda_process(df_current['Value'], sampling_rate=250)\n",
    "        df_features = df_features.append(pd.DataFrame.from_dict([{\n",
    "            'pid': pid,\n",
    "            'workload': df_current['workload'].iloc[0],\n",
    "            'interval': interval_id,\n",
    "            'tonic_avg': np.mean(eda_clean['EDA_Tonic']),\n",
    "            'amplitude_avg': np.mean(eda_clean[\"SCR_Amplitude\"]),\n",
    "            'peaks_num': np.sum(eda_clean['SCR_Peaks']),\n",
    "\n",
    "        }]))\n",
    "    return df_features"
   ]
  },
  {
   "cell_type": "code",
   "execution_count": 3,
   "metadata": {},
   "outputs": [
    {
     "name": "stderr",
     "output_type": "stream",
     "text": [
      "100%|██████████| 8/8 [00:03<00:00,  2.64it/s]\n"
     ]
    }
   ],
   "source": [
    "pid_valid = [4, 5, 7, 9, 10, 11, 12, 13]\n",
    "df_all = {}\n",
    "\n",
    "for pid in tqdm.tqdm(pid_valid):\n",
    "    df = load_eda(pid)\n",
    "    df_all[pid] = df"
   ]
  },
  {
   "cell_type": "code",
   "execution_count": 4,
   "metadata": {},
   "outputs": [
    {
     "name": "stderr",
     "output_type": "stream",
     "text": [
      "100%|██████████| 8/8 [00:00<00:00,  9.82it/s]\n"
     ]
    },
    {
     "data": {
      "text/html": [
       "<div>\n",
       "<style scoped>\n",
       "    .dataframe tbody tr th:only-of-type {\n",
       "        vertical-align: middle;\n",
       "    }\n",
       "\n",
       "    .dataframe tbody tr th {\n",
       "        vertical-align: top;\n",
       "    }\n",
       "\n",
       "    .dataframe thead th {\n",
       "        text-align: right;\n",
       "    }\n",
       "</style>\n",
       "<table border=\"1\" class=\"dataframe\">\n",
       "  <thead>\n",
       "    <tr style=\"text-align: right;\">\n",
       "      <th></th>\n",
       "      <th>pid</th>\n",
       "      <th>workload</th>\n",
       "      <th>interval</th>\n",
       "      <th>tonic_avg</th>\n",
       "      <th>amplitude_avg</th>\n",
       "      <th>peaks_num</th>\n",
       "    </tr>\n",
       "  </thead>\n",
       "  <tbody>\n",
       "    <tr>\n",
       "      <th>0</th>\n",
       "      <td>4</td>\n",
       "      <td>low</td>\n",
       "      <td>0.0</td>\n",
       "      <td>174845.249756</td>\n",
       "      <td>1.584421</td>\n",
       "      <td>4.0</td>\n",
       "    </tr>\n",
       "    <tr>\n",
       "      <th>0</th>\n",
       "      <td>4</td>\n",
       "      <td>high</td>\n",
       "      <td>1.0</td>\n",
       "      <td>171962.900679</td>\n",
       "      <td>2.089351</td>\n",
       "      <td>3.0</td>\n",
       "    </tr>\n",
       "    <tr>\n",
       "      <th>0</th>\n",
       "      <td>5</td>\n",
       "      <td>low</td>\n",
       "      <td>0.0</td>\n",
       "      <td>204700.507118</td>\n",
       "      <td>5.557244</td>\n",
       "      <td>4.0</td>\n",
       "    </tr>\n",
       "    <tr>\n",
       "      <th>0</th>\n",
       "      <td>5</td>\n",
       "      <td>high</td>\n",
       "      <td>1.0</td>\n",
       "      <td>189605.582489</td>\n",
       "      <td>5.190685</td>\n",
       "      <td>4.0</td>\n",
       "    </tr>\n",
       "    <tr>\n",
       "      <th>0</th>\n",
       "      <td>5</td>\n",
       "      <td>low</td>\n",
       "      <td>2.0</td>\n",
       "      <td>185861.386674</td>\n",
       "      <td>1.555890</td>\n",
       "      <td>4.0</td>\n",
       "    </tr>\n",
       "    <tr>\n",
       "      <th>...</th>\n",
       "      <td>...</td>\n",
       "      <td>...</td>\n",
       "      <td>...</td>\n",
       "      <td>...</td>\n",
       "      <td>...</td>\n",
       "      <td>...</td>\n",
       "    </tr>\n",
       "    <tr>\n",
       "      <th>0</th>\n",
       "      <td>13</td>\n",
       "      <td>low</td>\n",
       "      <td>10.0</td>\n",
       "      <td>220832.902538</td>\n",
       "      <td>4.291654</td>\n",
       "      <td>1.0</td>\n",
       "    </tr>\n",
       "    <tr>\n",
       "      <th>0</th>\n",
       "      <td>13</td>\n",
       "      <td>high</td>\n",
       "      <td>11.0</td>\n",
       "      <td>250662.773276</td>\n",
       "      <td>9.075797</td>\n",
       "      <td>2.0</td>\n",
       "    </tr>\n",
       "    <tr>\n",
       "      <th>0</th>\n",
       "      <td>13</td>\n",
       "      <td>low</td>\n",
       "      <td>12.0</td>\n",
       "      <td>266089.201377</td>\n",
       "      <td>5.371120</td>\n",
       "      <td>4.0</td>\n",
       "    </tr>\n",
       "    <tr>\n",
       "      <th>0</th>\n",
       "      <td>13</td>\n",
       "      <td>high</td>\n",
       "      <td>13.0</td>\n",
       "      <td>321911.981977</td>\n",
       "      <td>19.383172</td>\n",
       "      <td>5.0</td>\n",
       "    </tr>\n",
       "    <tr>\n",
       "      <th>0</th>\n",
       "      <td>13</td>\n",
       "      <td>low</td>\n",
       "      <td>14.0</td>\n",
       "      <td>311668.988358</td>\n",
       "      <td>12.785719</td>\n",
       "      <td>2.0</td>\n",
       "    </tr>\n",
       "  </tbody>\n",
       "</table>\n",
       "<p>89 rows × 6 columns</p>\n",
       "</div>"
      ],
      "text/plain": [
       "    pid workload  interval      tonic_avg  amplitude_avg  peaks_num\n",
       "0     4      low       0.0  174845.249756       1.584421        4.0\n",
       "0     4     high       1.0  171962.900679       2.089351        3.0\n",
       "0     5      low       0.0  204700.507118       5.557244        4.0\n",
       "0     5     high       1.0  189605.582489       5.190685        4.0\n",
       "0     5      low       2.0  185861.386674       1.555890        4.0\n",
       "..  ...      ...       ...            ...            ...        ...\n",
       "0    13      low      10.0  220832.902538       4.291654        1.0\n",
       "0    13     high      11.0  250662.773276       9.075797        2.0\n",
       "0    13      low      12.0  266089.201377       5.371120        4.0\n",
       "0    13     high      13.0  321911.981977      19.383172        5.0\n",
       "0    13      low      14.0  311668.988358      12.785719        2.0\n",
       "\n",
       "[89 rows x 6 columns]"
      ]
     },
     "execution_count": 4,
     "metadata": {},
     "output_type": "execute_result"
    }
   ],
   "source": [
    "df = pd.DataFrame()\n",
    "for pid in tqdm.tqdm(pid_valid):\n",
    "    df_features = extract_eda_features(pid, df_all[pid])\n",
    "    df = df.append(df_features)\n",
    "df"
   ]
  },
  {
   "cell_type": "code",
   "execution_count": 5,
   "metadata": {},
   "outputs": [],
   "source": [
    "df['tonic_avg_norm'] = (df['tonic_avg'] - df['tonic_avg'].min()) / (df['tonic_avg'].max() - df['tonic_avg'].min())\n",
    "df['amplitude_avg_norm'] = (df['amplitude_avg'] - df['amplitude_avg'].min()) / (df['amplitude_avg'].max() - df['amplitude_avg'].min())"
   ]
  },
  {
   "cell_type": "code",
   "execution_count": 6,
   "metadata": {},
   "outputs": [],
   "source": [
    "df.to_csv(\"./processed/eda.csv\", index=False)"
   ]
  },
  {
   "cell_type": "code",
   "execution_count": 7,
   "metadata": {},
   "outputs": [
    {
     "data": {
      "image/png": "[encoded data removed]",
      "text/plain": [
       "<Figure size 600x500 with 2 Axes>"
      ]
     },
     "metadata": {},
     "output_type": "display_data"
    }
   ],
   "source": [
    "fig, axes = plt.subplots(1, 2, figsize=(6, 5))\n",
    "colors = list({'yellow' : '#FBC63D', 'blue': '#0376BB'}.values())\n",
    "sns.boxplot(x='workload', y='tonic_avg_norm', data=df, ax=axes[0], palette=colors, showfliers=False)\n",
    "sns.boxplot(x='workload', y='amplitude_avg_norm', data=df, ax=axes[1], palette=colors, showfliers=False)\n",
    "\n",
    "axes[0].set_ylabel('SCL (µS)')\n",
    "axes[1].set_ylabel('nsSCL amplitude (µS)')\n",
    "\n",
    "axes[0].set_xticklabels(['Decrease', 'Increase'])\n",
    "axes[1].set_xticklabels(['Decrease', 'Increase'])\n",
    "\n",
    "axes[0].set_xlabel('')\n",
    "axes[1].set_xlabel('')\n",
    "\n",
    "axes[0].set_ylim(-.1, 1)\n",
    "axes[1].set_ylim(-.1, 1)\n",
    "\n",
    "plt.tight_layout()\n",
    "plt.savefig('figures/fig1eda.pdf')"
   ]
  }
 ],
 "metadata": {
  "kernelspec": {
   "display_name": "chi23lbw",
   "language": "python",
   "name": "python3"
  },
  "language_info": {
   "codemirror_mode": {
    "name": "ipython",
    "version": 3
   },
   "file_extension": ".py",
   "mimetype": "text/x-python",
   "name": "python",
   "nbconvert_exporter": "python",
   "pygments_lexer": "ipython3",
   "version": "3.9.16"
  },
  "orig_nbformat": 4,
  "vscode": {
   "interpreter": {
    "hash": "82ae58ca00847926547aabc807806e6cb01e8dbaa50ce6f12d50c344679ba919"
   }
  }
 },
 "nbformat": 4,
 "nbformat_minor": 2
}
